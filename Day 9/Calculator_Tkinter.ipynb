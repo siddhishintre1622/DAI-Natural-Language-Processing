{
 "cells": [
  {
   "cell_type": "code",
   "execution_count": 10,
   "id": "0ac05ad9-0ee6-4327-80ad-d312efcae858",
   "metadata": {},
   "outputs": [],
   "source": [
    "import tkinter as tk\n",
    "\n",
    "def on_click(operation):\n",
    "    try:\n",
    "        num1 = float(entry1.get())\n",
    "        num2 = float(entry2.get())\n",
    "        if operation == 'add':\n",
    "            result.set(num1 + num2)\n",
    "        elif operation == 'sub':\n",
    "            result.set(num1 - num2)\n",
    "        elif operation == 'mul':\n",
    "            result.set(num1 * num2)\n",
    "        elif operation == 'div':\n",
    "            if num2 == 0:\n",
    "                result.set(\"Error: Div by 0\")\n",
    "            else:\n",
    "                result.set(num1 / num2)\n",
    "    except ValueError:\n",
    "        result.set(\"Invalid input\")\n",
    "\n",
    "# Create the main window\n",
    "root = tk.Tk()\n",
    "root.title(\"Simple Calculator\")\n",
    "root.geometry(\"300x300\")\n",
    "\n",
    "# Input fields\n",
    "label1 = tk.Label(root, text=\"Enter first number:\")\n",
    "label1.pack()\n",
    "entry1 = tk.Entry(root)\n",
    "entry1.pack()\n",
    "\n",
    "label2 = tk.Label(root, text=\"Enter second number:\")\n",
    "label2.pack()\n",
    "entry2 = tk.Entry(root)\n",
    "entry2.pack()\n",
    "\n",
    "# Result display\n",
    "result = tk.StringVar()\n",
    "result.set(\"\")\n",
    "label_result = tk.Label(root, textvariable=result, font=(\"Arial\", 14))\n",
    "label_result.pack(pady=10)\n",
    "# Buttons for operations\n",
    "btn_add = tk.Button(root, text=\"Add\", command=lambda: on_click('add'))\n",
    "btn_add.pack(pady=5)\n",
    "\n",
    "btn_sub = tk.Button(root, text=\"Subtract\", command=lambda: on_click('sub'))\n",
    "btn_sub.pack(pady=5)\n",
    "\n",
    "btn_mul = tk.Button(root, text=\"Multiply\", command=lambda: on_click('mul'))\n",
    "btn_mul.pack(pady=5)\n",
    "\n",
    "btn_div = tk.Button(root, text=\"Divide\", command=lambda: on_click('div'))\n",
    "btn_div.pack(pady=5)\n",
    "\n",
    "# Run the main loop\n",
    "root.mainloop()"
   ]
  },
  {
   "cell_type": "code",
   "execution_count": null,
   "id": "67342170-eaa4-4b14-9b7e-77d7f791d138",
   "metadata": {},
   "outputs": [],
   "source": []
  }
 ],
 "metadata": {
  "kernelspec": {
   "display_name": "Python 3 (ipykernel)",
   "language": "python",
   "name": "python3"
  },
  "language_info": {
   "codemirror_mode": {
    "name": "ipython",
    "version": 3
   },
   "file_extension": ".py",
   "mimetype": "text/x-python",
   "name": "python",
   "nbconvert_exporter": "python",
   "pygments_lexer": "ipython3",
   "version": "3.12.4"
  }
 },
 "nbformat": 4,
 "nbformat_minor": 5
}
