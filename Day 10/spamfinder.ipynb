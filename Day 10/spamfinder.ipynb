{
 "cells": [
  {
   "cell_type": "code",
   "execution_count": null,
   "id": "1372ee88-3f5a-4c0a-bace-84917ec32c16",
   "metadata": {},
   "outputs": [
    {
     "name": "stdout",
     "output_type": "stream",
     "text": [
      " * Serving Flask app '__main__'\n",
      " * Debug mode: off\n"
     ]
    },
    {
     "name": "stderr",
     "output_type": "stream",
     "text": [
      "WARNING: This is a development server. Do not use it in a production deployment. Use a production WSGI server instead.\n",
      " * Running on http://127.0.0.1:5000\n",
      "Press CTRL+C to quit\n",
      "127.0.0.1 - - [17/Dec/2024 15:35:19] \"GET / HTTP/1.1\" 200 -\n",
      "127.0.0.1 - - [17/Dec/2024 15:35:22] \"POST /spamfinder HTTP/1.1\" 200 -\n",
      "127.0.0.1 - - [17/Dec/2024 15:38:06] \"GET / HTTP/1.1\" 200 -\n",
      "127.0.0.1 - - [17/Dec/2024 15:38:11] \"POST /spamfinder HTTP/1.1\" 200 -\n",
      "127.0.0.1 - - [17/Dec/2024 15:38:21] \"GET / HTTP/1.1\" 200 -\n",
      "127.0.0.1 - - [17/Dec/2024 15:38:27] \"POST /spamfinder HTTP/1.1\" 200 -\n"
     ]
    }
   ],
   "source": [
    "from flask import Flask, render_template, request\n",
    "from nltk.tokenize import word_tokenize\n",
    "from nltk.corpus import stopwords\n",
    "from nltk.stem import PorterStemmer\n",
    "import joblib\n",
    "app = Flask(__name__)\n",
    "\n",
    "def cleanText(sentence):\n",
    "    sword = stopwords.words('english')\n",
    "    ps = PorterStemmer()\n",
    "    tokens1 = word_tokenize(sentence)\n",
    "    tokens2 = [token for token in tokens1 if token.isalpha()]\n",
    "    tokens3 = [token.lower() for token in tokens2 if token.lower() not in sword]\n",
    "    tokens4 = [ps.stem(token) for token in tokens3]\n",
    "    return tokens4\n",
    "\n",
    "\n",
    "classifier = joblib.load('classifier.model')\n",
    "tfidf = joblib.load('tfidf.model')\n",
    "\n",
    "@app.route('/')\n",
    "def student():\n",
    "    return render_template('spamdetector.html')\n",
    "\n",
    "@app.route('/spamfinder', methods=['GET','POST'])\n",
    "def result():\n",
    "    if request.method == 'POST':\n",
    "        data = dict(request.form)\n",
    "        message = tfidf.transform([data['message']])\n",
    "        data['result'] = classifier.predict(message)[0]\n",
    "        return render_template('spamoutput.html', data=data)\n",
    "\n",
    "if __name__ == '__main__':\n",
    "    app.run()"
   ]
  },
  {
   "cell_type": "code",
   "execution_count": null,
   "id": "8f901cd8-c60d-4da8-a3ec-4c9d08e4edd5",
   "metadata": {},
   "outputs": [],
   "source": []
  }
 ],
 "metadata": {
  "kernelspec": {
   "display_name": "Python 3 (ipykernel)",
   "language": "python",
   "name": "python3"
  },
  "language_info": {
   "codemirror_mode": {
    "name": "ipython",
    "version": 3
   },
   "file_extension": ".py",
   "mimetype": "text/x-python",
   "name": "python",
   "nbconvert_exporter": "python",
   "pygments_lexer": "ipython3",
   "version": "3.12.4"
  }
 },
 "nbformat": 4,
 "nbformat_minor": 5
}
