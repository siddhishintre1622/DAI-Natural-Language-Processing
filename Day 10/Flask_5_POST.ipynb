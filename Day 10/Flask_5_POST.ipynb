{
 "cells": [
  {
   "cell_type": "code",
   "execution_count": null,
   "id": "04d74140-a025-4739-aab4-5fea82d04344",
   "metadata": {},
   "outputs": [
    {
     "name": "stdout",
     "output_type": "stream",
     "text": [
      " * Serving Flask app '__main__'\n",
      " * Debug mode: off\n"
     ]
    },
    {
     "name": "stderr",
     "output_type": "stream",
     "text": [
      "WARNING: This is a development server. Do not use it in a production deployment. Use a production WSGI server instead.\n",
      " * Running on http://127.0.0.1:5000\n",
      "Press CTRL+C to quit\n",
      "127.0.0.1 - - [17/Dec/2024 11:30:29] \"POST /login HTTP/1.1\" 302 -\n",
      "127.0.0.1 - - [17/Dec/2024 11:30:29] \"GET /success/Sonal HTTP/1.1\" 200 -\n",
      "127.0.0.1 - - [17/Dec/2024 11:30:29] \"GET /favicon.ico HTTP/1.1\" 404 -\n",
      "127.0.0.1 - - [17/Dec/2024 11:31:12] \"GET / HTTP/1.1\" 404 -\n",
      "127.0.0.1 - - [17/Dec/2024 11:31:36] \"POST /login HTTP/1.1\" 302 -\n",
      "127.0.0.1 - - [17/Dec/2024 11:31:36] \"GET /success/Alisha HTTP/1.1\" 200 -\n",
      "127.0.0.1 - - [17/Dec/2024 11:32:24] \"POST /login HTTP/1.1\" 302 -\n",
      "127.0.0.1 - - [17/Dec/2024 11:32:24] \"GET /success/Sonal HTTP/1.1\" 200 -\n",
      "127.0.0.1 - - [17/Dec/2024 11:32:57] \"POST /login HTTP/1.1\" 302 -\n",
      "127.0.0.1 - - [17/Dec/2024 11:32:57] \"GET /success/Sonal HTTP/1.1\" 200 -\n",
      "127.0.0.1 - - [17/Dec/2024 11:34:27] \"POST /login HTTP/1.1\" 302 -\n",
      "127.0.0.1 - - [17/Dec/2024 11:34:27] \"GET /success/Sonal HTTP/1.1\" 200 -\n",
      "127.0.0.1 - - [17/Dec/2024 12:03:23] \"GET / HTTP/1.1\" 404 -\n",
      "127.0.0.1 - - [17/Dec/2024 12:03:36] \"GET / HTTP/1.1\" 404 -\n",
      "127.0.0.1 - - [17/Dec/2024 12:04:23] \"GET / HTTP/1.1\" 404 -\n",
      "127.0.0.1 - - [17/Dec/2024 12:04:28] \"GET / HTTP/1.1\" 404 -\n"
     ]
    }
   ],
   "source": [
    "from flask import Flask, request, url_for, redirect\n",
    "app = Flask(__name__)\n",
    "\n",
    "@app.route('/success/<name>')\n",
    "def success(name):\n",
    "    return 'Welcome %s!' %name\n",
    "\n",
    "@app.route('/login', methods=['GET', 'POST'])\n",
    "def login():\n",
    "    if request.method == 'POST':\n",
    "        user = request.form['nm']\n",
    "        return redirect(url_for('success', name=user))\n",
    "\n",
    "if __name__=='__main__':\n",
    "    app.run()"
   ]
  },
  {
   "cell_type": "code",
   "execution_count": null,
   "id": "32c88f8c-0143-4d19-b50b-ab3ad407fe06",
   "metadata": {},
   "outputs": [],
   "source": []
  }
 ],
 "metadata": {
  "kernelspec": {
   "display_name": "Python 3 (ipykernel)",
   "language": "python",
   "name": "python3"
  },
  "language_info": {
   "codemirror_mode": {
    "name": "ipython",
    "version": 3
   },
   "file_extension": ".py",
   "mimetype": "text/x-python",
   "name": "python",
   "nbconvert_exporter": "python",
   "pygments_lexer": "ipython3",
   "version": "3.12.4"
  }
 },
 "nbformat": 4,
 "nbformat_minor": 5
}
