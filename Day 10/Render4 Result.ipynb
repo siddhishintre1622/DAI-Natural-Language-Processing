{
 "cells": [
  {
   "cell_type": "code",
   "execution_count": null,
   "id": "cf69f0dc-ffa4-4b01-9da9-e648a6d1ce07",
   "metadata": {},
   "outputs": [
    {
     "name": "stdout",
     "output_type": "stream",
     "text": [
      " * Serving Flask app '__main__'\n",
      " * Debug mode: off\n"
     ]
    },
    {
     "name": "stderr",
     "output_type": "stream",
     "text": [
      "WARNING: This is a development server. Do not use it in a production deployment. Use a production WSGI server instead.\n",
      " * Running on http://127.0.0.1:5000\n",
      "Press CTRL+C to quit\n",
      "127.0.0.1 - - [17/Dec/2024 13:25:44] \"GET / HTTP/1.1\" 200 -\n",
      "127.0.0.1 - - [17/Dec/2024 13:25:55] \"POST /result HTTP/1.1\" 200 -\n",
      "127.0.0.1 - - [17/Dec/2024 13:26:07] \"GET / HTTP/1.1\" 200 -\n",
      "127.0.0.1 - - [17/Dec/2024 13:26:18] \"POST /result HTTP/1.1\" 200 -\n"
     ]
    }
   ],
   "source": [
    "from flask import Flask, render_template, request\n",
    "app = Flask(__name__)\n",
    "\n",
    "@app.route('/')\n",
    "def student():\n",
    "    return render_template('homepage.html')\n",
    "\n",
    "@app.route('/result', methods=['GET','POST'])\n",
    "def result():\n",
    "    if request.method == 'POST':\n",
    "        data= request.form\n",
    "        m1 = int(request.form['phy'])\n",
    "        m2 = int(request.form['chem'])\n",
    "        m3=int(request.form['maths'])\n",
    "        avg = (m1+ m2+ m3) / 3\n",
    "        temp = {}\n",
    "        temp['name'] = request.form['name']\n",
    "        temp['average'] = avg\n",
    "        return render_template('result.html', result=temp)\n",
    "\n",
    "if __name__ == '__main__':\n",
    "    app.run()"
   ]
  },
  {
   "cell_type": "code",
   "execution_count": 2,
   "id": "96b9cf8e-b568-40f5-bfd8-e11c9a3e9264",
   "metadata": {},
   "outputs": [
    {
     "data": {
      "text/plain": [
       "'C:\\\\Users\\\\dai.STUDENTSDC\\\\Desktop\\\\NLP\\\\Day 10'"
      ]
     },
     "execution_count": 2,
     "metadata": {},
     "output_type": "execute_result"
    }
   ],
   "source": [
    "import os\n",
    "os.getcwd()"
   ]
  },
  {
   "cell_type": "code",
   "execution_count": null,
   "id": "48994ab5-8487-4b59-b49f-f8ccd8223a00",
   "metadata": {},
   "outputs": [],
   "source": []
  }
 ],
 "metadata": {
  "kernelspec": {
   "display_name": "Python 3 (ipykernel)",
   "language": "python",
   "name": "python3"
  },
  "language_info": {
   "codemirror_mode": {
    "name": "ipython",
    "version": 3
   },
   "file_extension": ".py",
   "mimetype": "text/x-python",
   "name": "python",
   "nbconvert_exporter": "python",
   "pygments_lexer": "ipython3",
   "version": "3.12.4"
  }
 },
 "nbformat": 4,
 "nbformat_minor": 5
}
