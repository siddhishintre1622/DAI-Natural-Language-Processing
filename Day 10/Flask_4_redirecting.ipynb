{
 "cells": [
  {
   "cell_type": "code",
   "execution_count": 1,
   "id": "d64b6358-4501-420c-a866-2a03f4ed5aca",
   "metadata": {},
   "outputs": [
    {
     "name": "stdout",
     "output_type": "stream",
     "text": [
      " * Serving Flask app '__main__'\n",
      " * Debug mode: off\n"
     ]
    },
    {
     "name": "stderr",
     "output_type": "stream",
     "text": [
      "WARNING: This is a development server. Do not use it in a production deployment. Use a production WSGI server instead.\n",
      " * Running on http://127.0.0.1:5000\n",
      "Press CTRL+C to quit\n",
      "127.0.0.1 - - [17/Dec/2024 10:54:27] \"GET / HTTP/1.1\" 404 -\n",
      "127.0.0.1 - - [17/Dec/2024 10:54:33] \"GET /admin HTTP/1.1\" 200 -\n",
      "127.0.0.1 - - [17/Dec/2024 10:54:39] \"GET /admin HTTP/1.1\" 200 -\n",
      "127.0.0.1 - - [17/Dec/2024 10:54:56] \"GET /user/Sonal HTTP/1.1\" 302 -\n",
      "127.0.0.1 - - [17/Dec/2024 10:54:56] \"GET /guest/Sonal HTTP/1.1\" 200 -\n",
      "127.0.0.1 - - [17/Dec/2024 10:55:22] \"GET /user/Admin HTTP/1.1\" 302 -\n",
      "127.0.0.1 - - [17/Dec/2024 10:55:22] \"GET /guest/Admin HTTP/1.1\" 200 -\n"
     ]
    }
   ],
   "source": [
    "from flask import Flask, url_for, redirect\n",
    "app = Flask(__name__)\n",
    "\n",
    "@app.route('/admin')\n",
    "def hello_admin():\n",
    "    return('Welcome Admin!!!')\n",
    "\n",
    "@app.route('/guest/<guest>')\n",
    "def hello_guest(guest):\n",
    "    return ('Hello %s' %guest)\n",
    "\n",
    "@app.route('/user/<name>')\n",
    "def hello(name):\n",
    "    if name == 'admin':\n",
    "        return redirect(url_for('hello_admin'))\n",
    "    else:\n",
    "        return redirect(url_for('hello_guest', guest=name))\n",
    "\n",
    "if __name__=='__main__':\n",
    "    app.run()"
   ]
  },
  {
   "cell_type": "code",
   "execution_count": null,
   "id": "b8da16ec-10ba-407b-beca-84f8500a430f",
   "metadata": {},
   "outputs": [],
   "source": []
  }
 ],
 "metadata": {
  "kernelspec": {
   "display_name": "Python 3 (ipykernel)",
   "language": "python",
   "name": "python3"
  },
  "language_info": {
   "codemirror_mode": {
    "name": "ipython",
    "version": 3
   },
   "file_extension": ".py",
   "mimetype": "text/x-python",
   "name": "python",
   "nbconvert_exporter": "python",
   "pygments_lexer": "ipython3",
   "version": "3.12.4"
  }
 },
 "nbformat": 4,
 "nbformat_minor": 5
}
