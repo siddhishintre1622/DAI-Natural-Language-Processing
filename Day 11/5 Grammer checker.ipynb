{
 "cells": [
  {
   "cell_type": "code",
   "execution_count": 1,
   "id": "ce627d4c-cbaa-4742-9eee-d3f11c7edcc0",
   "metadata": {},
   "outputs": [
    {
     "name": "stdout",
     "output_type": "stream",
     "text": [
      "Requirement already satisfied: language_tool_python in c:\\anaconda-install\\lib\\site-packages (2.8.1)\n",
      "Requirement already satisfied: pip in c:\\anaconda-install\\lib\\site-packages (from language_tool_python) (24.0)\n",
      "Requirement already satisfied: requests in c:\\anaconda-install\\lib\\site-packages (from language_tool_python) (2.32.2)\n",
      "Requirement already satisfied: tqdm in c:\\anaconda-install\\lib\\site-packages (from language_tool_python) (4.66.4)\n",
      "Requirement already satisfied: wheel in c:\\anaconda-install\\lib\\site-packages (from language_tool_python) (0.43.0)\n",
      "Requirement already satisfied: charset-normalizer<4,>=2 in c:\\anaconda-install\\lib\\site-packages (from requests->language_tool_python) (2.0.4)\n",
      "Requirement already satisfied: idna<4,>=2.5 in c:\\anaconda-install\\lib\\site-packages (from requests->language_tool_python) (3.7)\n",
      "Requirement already satisfied: urllib3<3,>=1.21.1 in c:\\anaconda-install\\lib\\site-packages (from requests->language_tool_python) (2.2.2)\n",
      "Requirement already satisfied: certifi>=2017.4.17 in c:\\anaconda-install\\lib\\site-packages (from requests->language_tool_python) (2024.8.30)\n",
      "Requirement already satisfied: colorama in c:\\anaconda-install\\lib\\site-packages (from tqdm->language_tool_python) (0.4.6)\n",
      "Note: you may need to restart the kernel to use updated packages.\n"
     ]
    }
   ],
   "source": [
    "pip install language_tool_python"
   ]
  },
  {
   "cell_type": "code",
   "execution_count": 2,
   "id": "fab5b3c7-cdae-44ef-9776-8db184788e1b",
   "metadata": {},
   "outputs": [],
   "source": [
    "import language_tool_python\n",
    "from textblob import TextBlob"
   ]
  },
  {
   "cell_type": "code",
   "execution_count": 3,
   "id": "dd8cf402-f51c-4275-b239-fb10a31f857c",
   "metadata": {},
   "outputs": [
    {
     "name": "stdout",
     "output_type": "stream",
     "text": [
      "Help on class LanguageTool in module language_tool_python.server:\n",
      "\n",
      "class LanguageTool(builtins.object)\n",
      " |  LanguageTool(language=None, motherTongue=None, remote_server=None, newSpellings=None, new_spellings_persist=True, host=None, config=None, language_tool_download_version: str = '6.4')\n",
      " |\n",
      " |  Main class used for checking text against different rules.\n",
      " |  LanguageTool v2 API documentation:\n",
      " |  https://languagetool.org/http-api/swagger-ui/#!/default/post_check\n",
      " |\n",
      " |  Methods defined here:\n",
      " |\n",
      " |  __del__(self)\n",
      " |\n",
      " |  __enter__(self)\n",
      " |\n",
      " |  __exit__(self, exc_type, exc_val, exc_tb)\n",
      " |\n",
      " |  __init__(self, language=None, motherTongue=None, remote_server=None, newSpellings=None, new_spellings_persist=True, host=None, config=None, language_tool_download_version: str = '6.4')\n",
      " |      Initialize self.  See help(type(self)) for accurate signature.\n",
      " |\n",
      " |  __repr__(self)\n",
      " |      Return repr(self).\n",
      " |\n",
      " |  check(self, text: str) -> List[language_tool_python.match.Match]\n",
      " |      Match text against enabled rules.\n",
      " |\n",
      " |  close(self)\n",
      " |\n",
      " |  correct(self, text: str) -> str\n",
      " |      Automatically apply suggestions to the text.\n",
      " |\n",
      " |  disable_spellchecking(self)\n",
      " |      Disable spell-checking rules.\n",
      " |\n",
      " |  enable_spellchecking(self)\n",
      " |      Enable spell-checking rules.\n",
      " |\n",
      " |  ----------------------------------------------------------------------\n",
      " |  Data descriptors defined here:\n",
      " |\n",
      " |  __dict__\n",
      " |      dictionary for instance variables\n",
      " |\n",
      " |  __weakref__\n",
      " |      list of weak references to the object\n",
      " |\n",
      " |  language\n",
      " |      The language to be used.\n",
      " |\n",
      " |  motherTongue\n",
      " |      The user's mother tongue or None.\n",
      " |      The mother tongue may also be used as a source language for\n",
      " |      checking bilingual texts.\n",
      " |\n",
      " |  ----------------------------------------------------------------------\n",
      " |  Data and other attributes defined here:\n",
      " |\n",
      " |  __annotations__ = {'_consumer_thread': <class 'threading.Thread'>, '_s...\n",
      "\n"
     ]
    }
   ],
   "source": [
    "help(language_tool_python.LanguageTool)"
   ]
  },
  {
   "cell_type": "code",
   "execution_count": 4,
   "id": "018f16fa-523d-48b6-be44-65c835f15050",
   "metadata": {},
   "outputs": [],
   "source": [
    "my_tool = language_tool_python.LanguageTool('en-US')"
   ]
  },
  {
   "cell_type": "code",
   "execution_count": 5,
   "id": "42c9dc8a-41a0-40ae-8181-5fde13536e8e",
   "metadata": {},
   "outputs": [],
   "source": [
    "my_text = \"He have collected a documents. I is there\""
   ]
  },
  {
   "cell_type": "code",
   "execution_count": 6,
   "id": "d03baab4-583e-492e-8eac-66d8c076f26f",
   "metadata": {},
   "outputs": [],
   "source": [
    "#get matches\n",
    "matches = my_tool.check(my_text)"
   ]
  },
  {
   "cell_type": "code",
   "execution_count": 7,
   "id": "5bec68cb-8b6f-4805-9348-8a6332dbc957",
   "metadata": {},
   "outputs": [
    {
     "data": {
      "text/plain": [
       "list"
      ]
     },
     "execution_count": 7,
     "metadata": {},
     "output_type": "execute_result"
    }
   ],
   "source": [
    "type(matches)"
   ]
  },
  {
   "cell_type": "code",
   "execution_count": 8,
   "id": "040498ce-e9e4-4fca-8af5-9bb6ac6e319b",
   "metadata": {},
   "outputs": [
    {
     "name": "stdout",
     "output_type": "stream",
     "text": [
      "Offset 3, length 4, Rule ID: HE_VERB_AGR\n",
      "Message: The pronoun ‘He’ is usually used with a third-person or a past tense verb.\n",
      "Suggestion: has; had\n",
      "He have collected a documents. I is there\n",
      "   ^^^^\n",
      "Offset 18, length 11, Rule ID: A_NNS\n",
      "Message: The plural noun “documents” cannot be used with the article “a”. Did you mean “a document” or “documents”?\n",
      "Suggestion: a document; documents\n",
      "He have collected a documents. I is there\n",
      "                  ^^^^^^^^^^^\n",
      "Offset 33, length 2, Rule ID: PERS_PRONOUN_AGREEMENT\n",
      "Message: Did you mean “am” or “will be”?\n",
      "Suggestion: am; will be\n",
      "He have collected a documents. I is there\n",
      "                                 ^^\n"
     ]
    }
   ],
   "source": [
    "for m in matches:\n",
    "    print(m)"
   ]
  },
  {
   "cell_type": "code",
   "execution_count": 9,
   "id": "ecad60a2-dfd4-4dc7-adbc-d4fc62b551c0",
   "metadata": {},
   "outputs": [
    {
     "data": {
      "text/plain": [
       "'He has collected a document. I am there'"
      ]
     },
     "execution_count": 9,
     "metadata": {},
     "output_type": "execute_result"
    }
   ],
   "source": [
    "my_tool.correct(my_text)"
   ]
  },
  {
   "cell_type": "code",
   "execution_count": null,
   "id": "d2d24f9e-48cb-4c9f-869d-08c75858ed7a",
   "metadata": {},
   "outputs": [],
   "source": []
  },
  {
   "cell_type": "code",
   "execution_count": 10,
   "id": "4f2add8c-1452-48f9-b493-d26355d289a8",
   "metadata": {},
   "outputs": [
    {
     "name": "stdout",
     "output_type": "stream",
     "text": [
      "Offset 3, length 4, Rule ID: HE_VERB_AGR\n",
      "Message: The pronoun ‘He’ is usually used with a third-person or a past tense verb.\n",
      "Suggestion: has; had\n",
      "He have collected a documents. I is there\n",
      "   ^^^^\n",
      "Offset 18, length 11, Rule ID: A_NNS\n",
      "Message: The plural noun “documents” cannot be used with the article “a”. Did you mean “a document” or “documents”?\n",
      "Suggestion: a document; documents\n",
      "He have collected a documents. I is there\n",
      "                  ^^^^^^^^^^^\n",
      "Offset 33, length 2, Rule ID: PERS_PRONOUN_AGREEMENT\n",
      "Message: Did you mean “am” or “will be”?\n",
      "Suggestion: am; will be\n",
      "He have collected a documents. I is there\n",
      "                                 ^^\n"
     ]
    }
   ],
   "source": [
    "my_text = \"He have colletced a documents. I is there.\"\n",
    "mtches = my_tool.check(my_text)\n",
    "for m in matches:\n",
    "    print(m)"
   ]
  },
  {
   "cell_type": "code",
   "execution_count": null,
   "id": "8befdb00-dd76-4b9f-a214-610ce6e83296",
   "metadata": {},
   "outputs": [],
   "source": []
  },
  {
   "cell_type": "code",
   "execution_count": null,
   "id": "08dd0c5b-e70a-4dba-872a-d65bd58824e6",
   "metadata": {},
   "outputs": [],
   "source": []
  }
 ],
 "metadata": {
  "kernelspec": {
   "display_name": "Python 3 (ipykernel)",
   "language": "python",
   "name": "python3"
  },
  "language_info": {
   "codemirror_mode": {
    "name": "ipython",
    "version": 3
   },
   "file_extension": ".py",
   "mimetype": "text/x-python",
   "name": "python",
   "nbconvert_exporter": "python",
   "pygments_lexer": "ipython3",
   "version": "3.12.4"
  }
 },
 "nbformat": 4,
 "nbformat_minor": 5
}
