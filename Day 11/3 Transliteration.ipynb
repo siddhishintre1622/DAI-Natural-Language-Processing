{
 "cells": [
  {
   "cell_type": "code",
   "execution_count": 1,
   "id": "cdae9c52-493e-40aa-99cd-3ee9e0908b04",
   "metadata": {},
   "outputs": [
    {
     "name": "stdout",
     "output_type": "stream",
     "text": [
      "Collecting indic_transliteration\n",
      "  Downloading indic_transliteration-2.3.68-py3-none-any.whl.metadata (1.4 kB)\n",
      "Collecting backports.functools-lru-cache (from indic_transliteration)\n",
      "  Downloading backports.functools_lru_cache-2.0.0-py2.py3-none-any.whl.metadata (3.5 kB)\n",
      "Requirement already satisfied: regex in c:\\anaconda-install\\lib\\site-packages (from indic_transliteration) (2023.10.3)\n",
      "Requirement already satisfied: typer in c:\\anaconda-install\\lib\\site-packages (from indic_transliteration) (0.13.0)\n",
      "Requirement already satisfied: toml in c:\\anaconda-install\\lib\\site-packages (from indic_transliteration) (0.10.2)\n",
      "Collecting roman (from indic_transliteration)\n",
      "  Downloading roman-4.2-py3-none-any.whl.metadata (3.6 kB)\n",
      "Requirement already satisfied: click>=8.0.0 in c:\\anaconda-install\\lib\\site-packages (from typer->indic_transliteration) (8.1.7)\n",
      "Requirement already satisfied: typing-extensions>=3.7.4.3 in c:\\anaconda-install\\lib\\site-packages (from typer->indic_transliteration) (4.11.0)\n",
      "Requirement already satisfied: shellingham>=1.3.0 in c:\\anaconda-install\\lib\\site-packages (from typer->indic_transliteration) (1.5.4)\n",
      "Requirement already satisfied: rich>=10.11.0 in c:\\anaconda-install\\lib\\site-packages (from typer->indic_transliteration) (13.3.5)\n",
      "Requirement already satisfied: colorama in c:\\anaconda-install\\lib\\site-packages (from click>=8.0.0->typer->indic_transliteration) (0.4.6)\n",
      "Requirement already satisfied: markdown-it-py<3.0.0,>=2.2.0 in c:\\anaconda-install\\lib\\site-packages (from rich>=10.11.0->typer->indic_transliteration) (2.2.0)\n",
      "Requirement already satisfied: pygments<3.0.0,>=2.13.0 in c:\\anaconda-install\\lib\\site-packages (from rich>=10.11.0->typer->indic_transliteration) (2.15.1)\n",
      "Requirement already satisfied: mdurl~=0.1 in c:\\anaconda-install\\lib\\site-packages (from markdown-it-py<3.0.0,>=2.2.0->rich>=10.11.0->typer->indic_transliteration) (0.1.0)\n",
      "Downloading indic_transliteration-2.3.68-py3-none-any.whl (155 kB)\n",
      "   ---------------------------------------- 0.0/155.3 kB ? eta -:--:--\n",
      "   ---------------------------------------- 155.3/155.3 kB 4.7 MB/s eta 0:00:00\n",
      "Downloading backports.functools_lru_cache-2.0.0-py2.py3-none-any.whl (6.7 kB)\n",
      "Downloading roman-4.2-py3-none-any.whl (5.5 kB)\n",
      "Installing collected packages: roman, backports.functools-lru-cache, indic_transliteration\n",
      "Successfully installed backports.functools-lru-cache-2.0.0 indic_transliteration-2.3.68 roman-4.2\n",
      "Note: you may need to restart the kernel to use updated packages.\n"
     ]
    }
   ],
   "source": [
    "pip install indic_transliteration"
   ]
  },
  {
   "cell_type": "code",
   "execution_count": 1,
   "id": "7b37ae35-5ee5-4687-ae13-7b0296e36d13",
   "metadata": {},
   "outputs": [],
   "source": [
    "from indic_transliteration import sanscript\n",
    "from indic_transliteration.sanscript import transliterate"
   ]
  },
  {
   "cell_type": "code",
   "execution_count": 84,
   "id": "00d08527-0a52-475e-b197-69159b94456b",
   "metadata": {},
   "outputs": [],
   "source": [
    "data = 'priyaa shintre.'"
   ]
  },
  {
   "cell_type": "code",
   "execution_count": 85,
   "id": "54784e4d-8e26-4dba-9771-3759067f4ce5",
   "metadata": {},
   "outputs": [
    {
     "name": "stdout",
     "output_type": "stream",
     "text": [
      "પ્રિયા શિન્ત્રે।\n"
     ]
    }
   ],
   "source": [
    "print(transliterate(data,sanscript.ITRANS,sanscript.GUJARATI))"
   ]
  },
  {
   "cell_type": "code",
   "execution_count": null,
   "id": "5c2a1703-0558-485b-a450-74c96774b40a",
   "metadata": {},
   "outputs": [],
   "source": []
  }
 ],
 "metadata": {
  "kernelspec": {
   "display_name": "Python 3 (ipykernel)",
   "language": "python",
   "name": "python3"
  },
  "language_info": {
   "codemirror_mode": {
    "name": "ipython",
    "version": 3
   },
   "file_extension": ".py",
   "mimetype": "text/x-python",
   "name": "python",
   "nbconvert_exporter": "python",
   "pygments_lexer": "ipython3",
   "version": "3.12.4"
  }
 },
 "nbformat": 4,
 "nbformat_minor": 5
}
