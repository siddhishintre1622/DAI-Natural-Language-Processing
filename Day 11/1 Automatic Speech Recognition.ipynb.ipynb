{
 "cells": [
  {
   "cell_type": "code",
   "execution_count": 3,
   "id": "2d00eccf-9a2e-487d-98cc-5140a1340abf",
   "metadata": {},
   "outputs": [
    {
     "name": "stdout",
     "output_type": "stream",
     "text": [
      "Requirement already satisfied: speechrecognition in c:\\anaconda-install\\lib\\site-packages (3.12.0)\n",
      "Requirement already satisfied: pyaudio in c:\\anaconda-install\\lib\\site-packages (0.2.14)\n",
      "Requirement already satisfied: typing-extensions in c:\\anaconda-install\\lib\\site-packages (from speechrecognition) (4.11.0)\n",
      "Note: you may need to restart the kernel to use updated packages.\n"
     ]
    }
   ],
   "source": [
    "pip install speechrecognition pyaudio -U"
   ]
  },
  {
   "cell_type": "code",
   "execution_count": 4,
   "id": "deb086de-455c-45bb-b773-0854ad6cd546",
   "metadata": {},
   "outputs": [],
   "source": [
    "import speech_recognition as sr"
   ]
  },
  {
   "cell_type": "code",
   "execution_count": 7,
   "id": "e6de8af0-b75b-449d-850b-a54d39d05377",
   "metadata": {},
   "outputs": [
    {
     "name": "stdout",
     "output_type": "stream",
     "text": [
      "Speak\n",
      "You said :  hello hello\n"
     ]
    }
   ],
   "source": [
    "r = sr.Recognizer()\n",
    "with sr.Microphone() as source:\n",
    "    r.adjust_for_ambient_noise(source)\n",
    "    print(\"Speak\")\n",
    "    audio= r.listen(source)\n",
    "    print(\"You said : \" , r.recognize_google(audio))"
   ]
  },
  {
   "cell_type": "code",
   "execution_count": 8,
   "id": "912f64a4-4335-4b98-982a-4c50f8986b72",
   "metadata": {},
   "outputs": [
    {
     "name": "stdout",
     "output_type": "stream",
     "text": [
      "Requirement already satisfied: pocketsphinx in c:\\anaconda-install\\lib\\site-packages (5.0.3)\n",
      "Requirement already satisfied: sounddevice in c:\\anaconda-install\\lib\\site-packages (from pocketsphinx) (0.5.1)\n",
      "Requirement already satisfied: CFFI>=1.0 in c:\\anaconda-install\\lib\\site-packages (from sounddevice->pocketsphinx) (1.16.0)\n",
      "Requirement already satisfied: pycparser in c:\\anaconda-install\\lib\\site-packages (from CFFI>=1.0->sounddevice->pocketsphinx) (2.21)\n",
      "Note: you may need to restart the kernel to use updated packages.\n"
     ]
    }
   ],
   "source": [
    "pip install pocketsphinx -U"
   ]
  },
  {
   "cell_type": "code",
   "execution_count": 9,
   "id": "74fc74a6-3b41-4cbf-939b-720f99c55d5d",
   "metadata": {},
   "outputs": [
    {
     "name": "stdout",
     "output_type": "stream",
     "text": [
      "Speak\n",
      "You said :  hello hello hello artificial\n"
     ]
    }
   ],
   "source": [
    "r = sr.Recognizer()\n",
    "with sr.Microphone() as source:\n",
    "    r.adjust_for_ambient_noise(source)\n",
    "    print(\"Speak\")\n",
    "    audio= r.listen(source)\n",
    "    print(\"You said : \" , r.recognize_google(audio))"
   ]
  },
  {
   "cell_type": "code",
   "execution_count": null,
   "id": "e217ec35-d09d-4012-9ee7-58c5358e3f6e",
   "metadata": {},
   "outputs": [],
   "source": []
  },
  {
   "cell_type": "code",
   "execution_count": null,
   "id": "1d282ea4-a79c-491f-9182-75c3ea3742d6",
   "metadata": {},
   "outputs": [],
   "source": []
  },
  {
   "cell_type": "code",
   "execution_count": null,
   "id": "77fe1817-a761-44b7-9344-0df29f90ca55",
   "metadata": {},
   "outputs": [],
   "source": []
  }
 ],
 "metadata": {
  "kernelspec": {
   "display_name": "Python 3 (ipykernel)",
   "language": "python",
   "name": "python3"
  },
  "language_info": {
   "codemirror_mode": {
    "name": "ipython",
    "version": 3
   },
   "file_extension": ".py",
   "mimetype": "text/x-python",
   "name": "python",
   "nbconvert_exporter": "python",
   "pygments_lexer": "ipython3",
   "version": "3.12.4"
  }
 },
 "nbformat": 4,
 "nbformat_minor": 5
}
