{
 "cells": [
  {
   "cell_type": "code",
   "execution_count": 15,
   "id": "bbaabe37-8b09-4173-9200-658c7f56c0ad",
   "metadata": {},
   "outputs": [
    {
     "name": "stderr",
     "output_type": "stream",
     "text": [
      "[nltk_data] Downloading package wordnet to\n",
      "[nltk_data]     C:\\Users\\dai.STUDENTSDC\\AppData\\Roaming\\nltk_data...\n",
      "[nltk_data]   Package wordnet is already up-to-date!\n"
     ]
    }
   ],
   "source": [
    "import nltk\n",
    "import random\n",
    "from nltk.stem import WordNetLemmatizer\n",
    "import nltk\n",
    "nltk.download('wordnet')\n",
    "from nltk import word_tokenize"
   ]
  },
  {
   "cell_type": "code",
   "execution_count": 16,
   "id": "1adb6919-3e76-4c40-9e84-94d3e5279a5b",
   "metadata": {},
   "outputs": [],
   "source": [
    "#Define the chatbot responses an intents\n",
    "\n",
    "response = {\n",
    "    'greeting' : ['Hello!','Hi there','Hey!','Howdy'],\n",
    "    'goodbye'  : ['Goodbye!','See you later','Take care','Bye'],\n",
    "    'thanks'   : ['yo are welcome','Glad to help!','Anytime','Happy to assist'],\n",
    "    'default'  : ['Sorry I did not understand','Can you tell again','I am not sure']\n",
    "}"
   ]
  },
  {
   "cell_type": "code",
   "execution_count": 17,
   "id": "ea44809a-956b-49ff-953e-508e14add813",
   "metadata": {},
   "outputs": [],
   "source": [
    "# Simple set of questions and responses/patterens\n",
    "\n",
    "patterns = {\n",
    "    'hi' : 'greeting',\n",
    "    'hello':'greeting',\n",
    "    'hey':'greeting',\n",
    "    'bye':'goodbye',\n",
    "    'thanks' :'thanks',\n",
    "    'thank you' : 'thanks'\n",
    "}"
   ]
  },
  {
   "cell_type": "code",
   "execution_count": 18,
   "id": "a55b75c0-f4f2-4954-a018-56c82ce79be2",
   "metadata": {},
   "outputs": [
    {
     "data": {
      "text/plain": [
       "'play'"
      ]
     },
     "execution_count": 18,
     "metadata": {},
     "output_type": "execute_result"
    }
   ],
   "source": [
    "wnl = WordNetLemmatizer()\n",
    "wnl.lemmatize('playing',pos='v')"
   ]
  },
  {
   "cell_type": "code",
   "execution_count": 19,
   "id": "62e64ae4-3ebe-4531-a1e4-c4020e5f1acf",
   "metadata": {},
   "outputs": [],
   "source": [
    "# matches the user input \n",
    "def respond(user_input):\n",
    "    for word in word_tokenize(user_input.lower()):\n",
    "        if word in patterns:\n",
    "            intent = patterns[word]\n",
    "            return intent\n",
    "    "
   ]
  },
  {
   "cell_type": "code",
   "execution_count": 20,
   "id": "e1889617-cff9-41bf-8d0d-c9b3dbfa4a0a",
   "metadata": {},
   "outputs": [
    {
     "data": {
      "text/plain": [
       "'thanks'"
      ]
     },
     "execution_count": 20,
     "metadata": {},
     "output_type": "execute_result"
    }
   ],
   "source": [
    "respond('thanks a lot')"
   ]
  },
  {
   "cell_type": "code",
   "execution_count": null,
   "id": "b0dabb50-a614-433b-9a39-9fc499b368f1",
   "metadata": {},
   "outputs": [],
   "source": []
  }
 ],
 "metadata": {
  "kernelspec": {
   "display_name": "Python 3 (ipykernel)",
   "language": "python",
   "name": "python3"
  },
  "language_info": {
   "codemirror_mode": {
    "name": "ipython",
    "version": 3
   },
   "file_extension": ".py",
   "mimetype": "text/x-python",
   "name": "python",
   "nbconvert_exporter": "python",
   "pygments_lexer": "ipython3",
   "version": "3.12.4"
  }
 },
 "nbformat": 4,
 "nbformat_minor": 5
}
