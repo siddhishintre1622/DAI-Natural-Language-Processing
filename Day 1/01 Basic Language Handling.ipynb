{
 "cells": [
  {
   "cell_type": "code",
   "execution_count": 121,
   "id": "00e121ca-85f2-490e-b941-f24c9569a5b4",
   "metadata": {},
   "outputs": [],
   "source": [
    "sent= 'They told that their ages are 25 26 and 31 respectively.'"
   ]
  },
  {
   "cell_type": "code",
   "execution_count": 122,
   "id": "c758a22f-9d0b-4788-8e9a-7192b913706b",
   "metadata": {},
   "outputs": [],
   "source": [
    "# Find the average of ages in this sentence"
   ]
  },
  {
   "cell_type": "code",
   "execution_count": 123,
   "id": "070418b4-0655-4d54-9f0d-7769dcc9d128",
   "metadata": {},
   "outputs": [],
   "source": [
    "no=list(sent.split(\" \"))"
   ]
  },
  {
   "cell_type": "code",
   "execution_count": 124,
   "id": "48268dc8-885c-408c-a8b5-d54fbf51f1ea",
   "metadata": {},
   "outputs": [],
   "source": [
    "age=[]\n",
    "    "
   ]
  },
  {
   "cell_type": "code",
   "execution_count": 125,
   "id": "2d9c12a3-ed30-4ef2-a284-935544e7c5b6",
   "metadata": {},
   "outputs": [],
   "source": [
    "for i in no:\n",
    "    if i.isdigit():\n",
    "        age.append(i)\n",
    "        \n",
    "        "
   ]
  },
  {
   "cell_type": "code",
   "execution_count": 126,
   "id": "1f71656e-95ed-44e2-a4cd-b13fd19dd132",
   "metadata": {},
   "outputs": [
    {
     "data": {
      "text/plain": [
       "['25', '26', '31']"
      ]
     },
     "execution_count": 126,
     "metadata": {},
     "output_type": "execute_result"
    }
   ],
   "source": [
    "age"
   ]
  },
  {
   "cell_type": "code",
   "execution_count": 127,
   "id": "8dbabbcd-60a4-4bc2-b346-03cd71335eb9",
   "metadata": {},
   "outputs": [],
   "source": [
    "sum=0\n",
    "for i in age:\n",
    "    sum+=int(i)\n",
    "\n",
    "avg = sum/len(age)"
   ]
  },
  {
   "cell_type": "code",
   "execution_count": 128,
   "id": "b5469789-d107-446e-8c43-b6290a835784",
   "metadata": {},
   "outputs": [
    {
     "data": {
      "text/plain": [
       "27.333333333333332"
      ]
     },
     "execution_count": 128,
     "metadata": {},
     "output_type": "execute_result"
    }
   ],
   "source": [
    "avg"
   ]
  },
  {
   "cell_type": "code",
   "execution_count": 129,
   "id": "20919eec-b527-41a5-b24d-70c3949a50dc",
   "metadata": {},
   "outputs": [],
   "source": [
    "#2nd Method"
   ]
  },
  {
   "cell_type": "code",
   "execution_count": 130,
   "id": "43af080a-9106-4491-986c-a93a1ebe8238",
   "metadata": {},
   "outputs": [],
   "source": [
    "words= sent.split()"
   ]
  },
  {
   "cell_type": "code",
   "execution_count": 131,
   "id": "35c26375-ebed-4694-bcac-3d75ca0dac52",
   "metadata": {},
   "outputs": [],
   "source": [
    "ages=[]\n",
    "for i in words:\n",
    "    if i.isdigit():\n",
    "        ages.append(int(i))\n",
    "        \n",
    "        \n",
    "        "
   ]
  },
  {
   "cell_type": "code",
   "execution_count": 132,
   "id": "74b4b6c2-f6d0-482d-83d8-06701b588369",
   "metadata": {},
   "outputs": [
    {
     "data": {
      "text/plain": [
       "[25, 26, 31]"
      ]
     },
     "execution_count": 132,
     "metadata": {},
     "output_type": "execute_result"
    }
   ],
   "source": [
    "ages"
   ]
  },
  {
   "cell_type": "code",
   "execution_count": 133,
   "id": "99b871e7-b9c8-487f-a29f-a0b955d5cbff",
   "metadata": {},
   "outputs": [
    {
     "data": {
      "text/plain": [
       "27.333333333333332"
      ]
     },
     "execution_count": 133,
     "metadata": {},
     "output_type": "execute_result"
    }
   ],
   "source": [
    "sum / len(ages)"
   ]
  },
  {
   "cell_type": "code",
   "execution_count": 134,
   "id": "fbecb00a-d536-4561-b308-ca48fc10043a",
   "metadata": {},
   "outputs": [],
   "source": [
    "names= ['अजय', 'विजय' , 'प्रिया', 'अतुल' ]"
   ]
  },
  {
   "cell_type": "code",
   "execution_count": 135,
   "id": "fcc54f83-f6cb-4ffa-9427-20f2cba1089e",
   "metadata": {},
   "outputs": [
    {
     "name": "stdout",
     "output_type": "stream",
     "text": [
      "['अजय', 'विजय', 'प्रिया', 'अतुल']\n"
     ]
    }
   ],
   "source": [
    "print(names)"
   ]
  },
  {
   "cell_type": "code",
   "execution_count": 136,
   "id": "cecc5f5c-a821-4077-ae46-34e7a024c391",
   "metadata": {},
   "outputs": [
    {
     "name": "stdout",
     "output_type": "stream",
     "text": [
      "अजय\n",
      "अतुल\n"
     ]
    }
   ],
   "source": [
    "for x in names:\n",
    "    if x.startswith('अ'):\n",
    "        print(x)"
   ]
  },
  {
   "cell_type": "code",
   "execution_count": 137,
   "id": "ee5d932f-b004-49d2-b907-9578623800a1",
   "metadata": {},
   "outputs": [
    {
     "name": "stdout",
     "output_type": "stream",
     "text": [
      "अजय\n",
      "विजय\n"
     ]
    }
   ],
   "source": [
    "for x in names:\n",
    "    if x.endswith('य'):\n",
    "        print(x)"
   ]
  },
  {
   "cell_type": "code",
   "execution_count": 138,
   "id": "008a1b8a-115f-4203-9268-774672c4dec4",
   "metadata": {},
   "outputs": [
    {
     "data": {
      "text/plain": [
       "'अजय विजय प्रिया अतुल'"
      ]
     },
     "execution_count": 138,
     "metadata": {},
     "output_type": "execute_result"
    }
   ],
   "source": [
    "' '.join(names)"
   ]
  },
  {
   "cell_type": "code",
   "execution_count": 139,
   "id": "4726e6d4-4f30-44ae-8cb9-a53d6ea1e7aa",
   "metadata": {},
   "outputs": [
    {
     "data": {
      "text/plain": [
       "'अजय'"
      ]
     },
     "execution_count": 139,
     "metadata": {},
     "output_type": "execute_result"
    }
   ],
   "source": [
    "'विजय'.replace('वि','अ')"
   ]
  },
  {
   "cell_type": "code",
   "execution_count": 140,
   "id": "a452112b-1dcf-49df-aad8-7de6e0ff1714",
   "metadata": {},
   "outputs": [
    {
     "name": "stdout",
     "output_type": "stream",
     "text": [
      "['अजय', 'विजय', 'प्रिया', 'अतुल']\n"
     ]
    }
   ],
   "source": [
    "print(names)"
   ]
  },
  {
   "cell_type": "code",
   "execution_count": 141,
   "id": "fc10a8a9-1b7c-4e4f-84fe-91a7a5545a7f",
   "metadata": {},
   "outputs": [
    {
     "data": {
      "text/plain": [
       "2"
      ]
     },
     "execution_count": 141,
     "metadata": {},
     "output_type": "execute_result"
    }
   ],
   "source": [
    "' '.join(names).count('ज')"
   ]
  },
  {
   "cell_type": "code",
   "execution_count": 142,
   "id": "3c302cf4-000b-4af1-b21f-70ea5d0a02aa",
   "metadata": {},
   "outputs": [
    {
     "data": {
      "text/plain": [
       "4"
      ]
     },
     "execution_count": 142,
     "metadata": {},
     "output_type": "execute_result"
    }
   ],
   "source": [
    "len(names[1])"
   ]
  },
  {
   "cell_type": "code",
   "execution_count": 143,
   "id": "130594a1-2d32-4757-bda2-2a5f4fdab20f",
   "metadata": {},
   "outputs": [
    {
     "data": {
      "text/plain": [
       "6"
      ]
     },
     "execution_count": 143,
     "metadata": {},
     "output_type": "execute_result"
    }
   ],
   "source": [
    "len(names[2])"
   ]
  },
  {
   "cell_type": "code",
   "execution_count": 144,
   "id": "b29d8959-a165-4f6b-81cb-03f197a5d3fd",
   "metadata": {},
   "outputs": [
    {
     "data": {
      "text/plain": [
       "'प्रिया'"
      ]
     },
     "execution_count": 144,
     "metadata": {},
     "output_type": "execute_result"
    }
   ],
   "source": [
    "names[2]"
   ]
  },
  {
   "cell_type": "code",
   "execution_count": 145,
   "id": "3c51d04e-b108-4c23-aef0-791dcd4b02a4",
   "metadata": {},
   "outputs": [],
   "source": [
    "f = open('names.txt','w', encoding='utf8')\n",
    "for x in range(100):\n",
    "    f.write('प्रिया\\n')\n",
    "\n",
    "f.close()"
   ]
  },
  {
   "cell_type": "code",
   "execution_count": 146,
   "id": "85af89a8-faaf-4342-aa7c-75a7897dfaee",
   "metadata": {},
   "outputs": [],
   "source": [
    "#finding ascii value\n",
    "# ord, chr"
   ]
  },
  {
   "cell_type": "code",
   "execution_count": 147,
   "id": "37ec01bb-f926-452c-a97f-1e32fe88ffbf",
   "metadata": {},
   "outputs": [
    {
     "data": {
      "text/plain": [
       "114"
      ]
     },
     "execution_count": 147,
     "metadata": {},
     "output_type": "execute_result"
    }
   ],
   "source": [
    "ord('r')"
   ]
  },
  {
   "cell_type": "code",
   "execution_count": 148,
   "id": "b547078a-a4f8-4131-9880-dafaa111823c",
   "metadata": {},
   "outputs": [
    {
     "data": {
      "text/plain": [
       "54"
      ]
     },
     "execution_count": 148,
     "metadata": {},
     "output_type": "execute_result"
    }
   ],
   "source": [
    "ord('6')"
   ]
  },
  {
   "cell_type": "code",
   "execution_count": 149,
   "id": "3696678d-ee8a-49c0-8e8b-9f6f73de88ff",
   "metadata": {},
   "outputs": [
    {
     "data": {
      "text/plain": [
       "'C'"
      ]
     },
     "execution_count": 149,
     "metadata": {},
     "output_type": "execute_result"
    }
   ],
   "source": [
    "chr(67)"
   ]
  },
  {
   "cell_type": "code",
   "execution_count": 150,
   "id": "80eef6b6-932b-4677-8ff1-7f873edbf9e3",
   "metadata": {},
   "outputs": [
    {
     "data": {
      "text/plain": [
       "2351"
      ]
     },
     "execution_count": 150,
     "metadata": {},
     "output_type": "execute_result"
    }
   ],
   "source": [
    "ord('य')"
   ]
  },
  {
   "cell_type": "code",
   "execution_count": 151,
   "id": "5de7c930-58b4-449a-81fc-0c90263354cd",
   "metadata": {},
   "outputs": [
    {
     "data": {
      "text/plain": [
       "2346"
      ]
     },
     "execution_count": 151,
     "metadata": {},
     "output_type": "execute_result"
    }
   ],
   "source": [
    "ord('प')"
   ]
  },
  {
   "cell_type": "code",
   "execution_count": 152,
   "id": "41d66f87-4e16-435a-8d4a-67f1d4b2b191",
   "metadata": {},
   "outputs": [],
   "source": [
    "x = '\\u0939\\u092A'"
   ]
  },
  {
   "cell_type": "code",
   "execution_count": 153,
   "id": "26c6b2a0-9df4-4782-b07a-8da902e6b544",
   "metadata": {},
   "outputs": [
    {
     "data": {
      "text/plain": [
       "'हप'"
      ]
     },
     "execution_count": 153,
     "metadata": {},
     "output_type": "execute_result"
    }
   ],
   "source": [
    "x"
   ]
  },
  {
   "cell_type": "code",
   "execution_count": 154,
   "id": "b300a5ef-94f5-44c2-9109-dbbdb99a5100",
   "metadata": {},
   "outputs": [
    {
     "name": "stdout",
     "output_type": "stream",
     "text": [
      "😆😂😎🥸\n"
     ]
    }
   ],
   "source": [
    "emoji= '😆😂😎🥸'\n",
    "print(emoji)"
   ]
  },
  {
   "cell_type": "code",
   "execution_count": 155,
   "id": "967f490f-ffd5-493e-b405-5ee614e24185",
   "metadata": {},
   "outputs": [
    {
     "data": {
      "text/plain": [
       "'😆'"
      ]
     },
     "execution_count": 155,
     "metadata": {},
     "output_type": "execute_result"
    }
   ],
   "source": [
    "emoji[0]"
   ]
  },
  {
   "cell_type": "code",
   "execution_count": 156,
   "id": "57de295f-a0de-48a4-8259-28dcfb85f97b",
   "metadata": {},
   "outputs": [
    {
     "data": {
      "text/plain": [
       "128526"
      ]
     },
     "execution_count": 156,
     "metadata": {},
     "output_type": "execute_result"
    }
   ],
   "source": [
    "ord(emoji[2])"
   ]
  },
  {
   "cell_type": "code",
   "execution_count": 157,
   "id": "1377cde5-8e07-4218-a633-b95c094a3d43",
   "metadata": {},
   "outputs": [
    {
     "data": {
      "text/plain": [
       "'😂'"
      ]
     },
     "execution_count": 157,
     "metadata": {},
     "output_type": "execute_result"
    }
   ],
   "source": [
    "chr(128514)"
   ]
  },
  {
   "cell_type": "code",
   "execution_count": 158,
   "id": "66b18b39-faec-4014-bf9b-501c7b203815",
   "metadata": {},
   "outputs": [
    {
     "data": {
      "text/plain": [
       "'😎'"
      ]
     },
     "execution_count": 158,
     "metadata": {},
     "output_type": "execute_result"
    }
   ],
   "source": [
    "chr(128526)"
   ]
  },
  {
   "cell_type": "code",
   "execution_count": null,
   "id": "b9749369-bede-4035-8393-17cd0bd3791d",
   "metadata": {},
   "outputs": [],
   "source": []
  },
  {
   "cell_type": "code",
   "execution_count": null,
   "id": "10bf003c-059d-4330-8257-310bea474bed",
   "metadata": {},
   "outputs": [],
   "source": []
  },
  {
   "cell_type": "code",
   "execution_count": null,
   "id": "19c8b7fe-0404-4357-9fef-84827f44d789",
   "metadata": {},
   "outputs": [],
   "source": []
  },
  {
   "cell_type": "code",
   "execution_count": null,
   "id": "1c24d3f9-dffc-458a-a706-75c663653053",
   "metadata": {},
   "outputs": [],
   "source": []
  },
  {
   "cell_type": "code",
   "execution_count": null,
   "id": "cbbbe383-ad90-4741-8b78-1473c8fe984d",
   "metadata": {},
   "outputs": [],
   "source": []
  },
  {
   "cell_type": "code",
   "execution_count": null,
   "id": "d0db0f70-7f17-437f-bc7d-db397b50a7e1",
   "metadata": {},
   "outputs": [],
   "source": []
  },
  {
   "cell_type": "code",
   "execution_count": null,
   "id": "3b5a8558-8bfa-4224-bc71-d864fb760596",
   "metadata": {},
   "outputs": [],
   "source": []
  },
  {
   "cell_type": "code",
   "execution_count": null,
   "id": "346fa5e8-7f2a-4173-b42e-959b44bd7f8b",
   "metadata": {},
   "outputs": [],
   "source": []
  },
  {
   "cell_type": "code",
   "execution_count": null,
   "id": "524ec98d-537e-4e19-9a7a-b166cdcd80b1",
   "metadata": {},
   "outputs": [],
   "source": []
  },
  {
   "cell_type": "code",
   "execution_count": null,
   "id": "bb6cbbd5-7cde-4edf-94e8-025681833cef",
   "metadata": {},
   "outputs": [],
   "source": []
  },
  {
   "cell_type": "code",
   "execution_count": null,
   "id": "be07be5c-967d-4888-8ddd-cae5f1dd855d",
   "metadata": {},
   "outputs": [],
   "source": []
  }
 ],
 "metadata": {
  "kernelspec": {
   "display_name": "Python 3 (ipykernel)",
   "language": "python",
   "name": "python3"
  },
  "language_info": {
   "codemirror_mode": {
    "name": "ipython",
    "version": 3
   },
   "file_extension": ".py",
   "mimetype": "text/x-python",
   "name": "python",
   "nbconvert_exporter": "python",
   "pygments_lexer": "ipython3",
   "version": "3.12.4"
  }
 },
 "nbformat": 4,
 "nbformat_minor": 5
}
